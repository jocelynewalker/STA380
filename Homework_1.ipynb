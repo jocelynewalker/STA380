{
  "nbformat": 4,
  "nbformat_minor": 0,
  "metadata": {
    "colab": {
      "name": "Homework 1",
      "provenance": [],
      "collapsed_sections": [],
      "include_colab_link": true
    },
    "kernelspec": {
      "name": "python3",
      "display_name": "Python 3"
    }
  },
  "cells": [
    {
      "cell_type": "markdown",
      "metadata": {
        "id": "view-in-github",
        "colab_type": "text"
      },
      "source": [
        "<a href=\"https://colab.research.google.com/github/jocelynewalker/STA380/blob/master/Homework_1.ipynb\" target=\"_parent\"><img src=\"https://colab.research.google.com/assets/colab-badge.svg\" alt=\"Open In Colab\"/></a>"
      ]
    },
    {
      "cell_type": "markdown",
      "metadata": {
        "id": "NHM7cQGIZ0RS",
        "colab_type": "text"
      },
      "source": [
        "**Names:**"
      ]
    },
    {
      "cell_type": "markdown",
      "metadata": {
        "id": "5ZErb8S9lvRv",
        "colab_type": "text"
      },
      "source": [
        "**Forum:** Midsize Sedans 2.0, pages 403-503\n",
        "\n",
        "https://forums.edmunds.com/discussion/7526/general/x/midsize-sedans-2-0/p403\n"
      ]
    },
    {
      "cell_type": "markdown",
      "metadata": {
        "id": "KsjJ1Gaul73q",
        "colab_type": "text"
      },
      "source": [
        "**1. Scraper that outputs .csv**\n",
        "\n",
        "**2. Fetch around 5000 posts** "
      ]
    },
    {
      "cell_type": "code",
      "metadata": {
        "id": "e4X5cjYdPvSc",
        "colab_type": "code",
        "colab": {
          "base_uri": "https://localhost:8080/",
          "height": 1000
        },
        "outputId": "aa373f39-b511-4186-dcab-ca64682b03a7"
      },
      "source": [
        "!pip install selenium\n",
        "!apt-get update \n",
        "!apt install chromium-chromedriver\n",
        "import pandas as pd\n",
        "from google.colab import  drive\n",
        "\n",
        "from selenium import webdriver\n",
        "options = webdriver.ChromeOptions()\n",
        "options.add_argument('--headless')\n",
        "options.add_argument('--no-sandbox')\n",
        "options.add_argument('--disable-dev-shm-usage')\n",
        "driver =webdriver.Chrome('chromedriver',options=options)\n",
        "\n",
        "comment_ids = []\n",
        "comments = pd.DataFrame(columns = ['Date','user_id','comments']) \n",
        "\n",
        "# for the page numbers 403-503 on the forum (newer posts)\n",
        "for i in range(403,504):\n",
        "  link = 'https://forums.edmunds.com/discussion/7526/general/x/midsize-sedans-2-0/p' + str(i)\n",
        "  print(link)\n",
        "  driver.get(link)\n",
        "\n",
        "  ids = driver.find_elements_by_xpath(\"//*[contains(@id,'Comment_')]\")\n",
        "  comment_ids = []\n",
        "\n",
        "  #pull all the comment ids on each page\n",
        "  for i in ids:\n",
        "    comment_ids.append(i.get_attribute('id'))\n",
        "\n",
        "  for x in comment_ids:\n",
        "      #Extract dates from for each user on a page\n",
        "      user_date = driver.find_elements_by_xpath('//*[@id=\"' + x +'\"]/div/div[2]/div[2]/span[1]/a/time')[0]\n",
        "      date = user_date.get_attribute('title')\n",
        "\n",
        "      #Extract user ids from each user on a page\n",
        "      userid_element = driver.find_elements_by_xpath('//*[@id=\"' + x +'\"]/div/div[2]/div[1]/span[1]/a[2]')[0]\n",
        "      userid = userid_element.text\n",
        "\n",
        "      #Extract Message for each user on a page\n",
        "      #First, try to pull all the text paragraphs (prevents blockquotes from being pulled)\n",
        "      user_message = driver.find_elements_by_xpath('//*[@id=\"' + x +'\"]/div/div[3]/div/div[1]/p')\n",
        "      comment = ''\n",
        "      for value in user_message:\n",
        "        comment += value.text\n",
        "        comment += '\\n'\n",
        "      \n",
        "      #If there are no text paragraphs, then instead pull the entire block's text (only used in the case of entries that do not have multiple paragraphs)\n",
        "      if comment == '':\n",
        "         user_message = driver.find_elements_by_xpath('//*[@id=\"' + x +'\"]/div/div[3]/div/div[1]')[0]\n",
        "         comment = user_message.text                             \n",
        "      \n",
        "      #Adding date, userid and comment for each user in a dataframe    \n",
        "      comments.loc[len(comments)] = [date,userid,comment]\n",
        "    \n",
        "drive.mount('/drive')\n",
        "comments.to_csv('/drive/My Drive/comments.csv',index=False)"
      ],
      "execution_count": 21,
      "outputs": [
        {
          "output_type": "stream",
          "text": [
            "Requirement already satisfied: selenium in /usr/local/lib/python3.6/dist-packages (3.141.0)\n",
            "Requirement already satisfied: urllib3 in /usr/local/lib/python3.6/dist-packages (from selenium) (1.24.3)\n",
            "Hit:1 https://cloud.r-project.org/bin/linux/ubuntu bionic-cran35/ InRelease\n",
            "Ign:2 https://developer.download.nvidia.com/compute/cuda/repos/ubuntu1804/x86_64  InRelease\n",
            "Ign:3 https://developer.download.nvidia.com/compute/machine-learning/repos/ubuntu1804/x86_64  InRelease\n",
            "Hit:4 https://developer.download.nvidia.com/compute/cuda/repos/ubuntu1804/x86_64  Release\n",
            "Hit:5 https://developer.download.nvidia.com/compute/machine-learning/repos/ubuntu1804/x86_64  Release\n",
            "Hit:6 http://ppa.launchpad.net/graphics-drivers/ppa/ubuntu bionic InRelease\n",
            "Get:8 http://security.ubuntu.com/ubuntu bionic-security InRelease [88.7 kB]\n",
            "Hit:9 http://archive.ubuntu.com/ubuntu bionic InRelease\n",
            "Hit:11 http://ppa.launchpad.net/marutter/c2d4u3.5/ubuntu bionic InRelease\n",
            "Get:12 http://archive.ubuntu.com/ubuntu bionic-updates InRelease [88.7 kB]\n",
            "Get:13 http://archive.ubuntu.com/ubuntu bionic-backports InRelease [74.6 kB]\n",
            "Fetched 252 kB in 2s (121 kB/s)\n",
            "Reading package lists... Done\n",
            "Reading package lists... Done\n",
            "Building dependency tree       \n",
            "Reading state information... Done\n",
            "chromium-chromedriver is already the newest version (85.0.4183.83-0ubuntu0.18.04.2).\n",
            "0 upgraded, 0 newly installed, 0 to remove and 11 not upgraded.\n",
            "https://forums.edmunds.com/discussion/7526/general/x/midsize-sedans-2-0/p403\n",
            "https://forums.edmunds.com/discussion/7526/general/x/midsize-sedans-2-0/p404\n",
            "https://forums.edmunds.com/discussion/7526/general/x/midsize-sedans-2-0/p405\n",
            "https://forums.edmunds.com/discussion/7526/general/x/midsize-sedans-2-0/p406\n",
            "https://forums.edmunds.com/discussion/7526/general/x/midsize-sedans-2-0/p407\n",
            "https://forums.edmunds.com/discussion/7526/general/x/midsize-sedans-2-0/p408\n",
            "https://forums.edmunds.com/discussion/7526/general/x/midsize-sedans-2-0/p409\n",
            "https://forums.edmunds.com/discussion/7526/general/x/midsize-sedans-2-0/p410\n",
            "https://forums.edmunds.com/discussion/7526/general/x/midsize-sedans-2-0/p411\n",
            "https://forums.edmunds.com/discussion/7526/general/x/midsize-sedans-2-0/p412\n",
            "https://forums.edmunds.com/discussion/7526/general/x/midsize-sedans-2-0/p413\n",
            "https://forums.edmunds.com/discussion/7526/general/x/midsize-sedans-2-0/p414\n",
            "https://forums.edmunds.com/discussion/7526/general/x/midsize-sedans-2-0/p415\n",
            "https://forums.edmunds.com/discussion/7526/general/x/midsize-sedans-2-0/p416\n",
            "https://forums.edmunds.com/discussion/7526/general/x/midsize-sedans-2-0/p417\n",
            "https://forums.edmunds.com/discussion/7526/general/x/midsize-sedans-2-0/p418\n",
            "https://forums.edmunds.com/discussion/7526/general/x/midsize-sedans-2-0/p419\n",
            "https://forums.edmunds.com/discussion/7526/general/x/midsize-sedans-2-0/p420\n",
            "https://forums.edmunds.com/discussion/7526/general/x/midsize-sedans-2-0/p421\n",
            "https://forums.edmunds.com/discussion/7526/general/x/midsize-sedans-2-0/p422\n",
            "https://forums.edmunds.com/discussion/7526/general/x/midsize-sedans-2-0/p423\n",
            "https://forums.edmunds.com/discussion/7526/general/x/midsize-sedans-2-0/p424\n",
            "https://forums.edmunds.com/discussion/7526/general/x/midsize-sedans-2-0/p425\n",
            "https://forums.edmunds.com/discussion/7526/general/x/midsize-sedans-2-0/p426\n",
            "https://forums.edmunds.com/discussion/7526/general/x/midsize-sedans-2-0/p427\n",
            "https://forums.edmunds.com/discussion/7526/general/x/midsize-sedans-2-0/p428\n",
            "https://forums.edmunds.com/discussion/7526/general/x/midsize-sedans-2-0/p429\n",
            "https://forums.edmunds.com/discussion/7526/general/x/midsize-sedans-2-0/p430\n",
            "https://forums.edmunds.com/discussion/7526/general/x/midsize-sedans-2-0/p431\n",
            "https://forums.edmunds.com/discussion/7526/general/x/midsize-sedans-2-0/p432\n",
            "https://forums.edmunds.com/discussion/7526/general/x/midsize-sedans-2-0/p433\n",
            "https://forums.edmunds.com/discussion/7526/general/x/midsize-sedans-2-0/p434\n",
            "https://forums.edmunds.com/discussion/7526/general/x/midsize-sedans-2-0/p435\n",
            "https://forums.edmunds.com/discussion/7526/general/x/midsize-sedans-2-0/p436\n",
            "https://forums.edmunds.com/discussion/7526/general/x/midsize-sedans-2-0/p437\n",
            "https://forums.edmunds.com/discussion/7526/general/x/midsize-sedans-2-0/p438\n",
            "https://forums.edmunds.com/discussion/7526/general/x/midsize-sedans-2-0/p439\n",
            "https://forums.edmunds.com/discussion/7526/general/x/midsize-sedans-2-0/p440\n",
            "https://forums.edmunds.com/discussion/7526/general/x/midsize-sedans-2-0/p441\n",
            "https://forums.edmunds.com/discussion/7526/general/x/midsize-sedans-2-0/p442\n",
            "https://forums.edmunds.com/discussion/7526/general/x/midsize-sedans-2-0/p443\n",
            "https://forums.edmunds.com/discussion/7526/general/x/midsize-sedans-2-0/p444\n",
            "https://forums.edmunds.com/discussion/7526/general/x/midsize-sedans-2-0/p445\n",
            "https://forums.edmunds.com/discussion/7526/general/x/midsize-sedans-2-0/p446\n",
            "https://forums.edmunds.com/discussion/7526/general/x/midsize-sedans-2-0/p447\n",
            "https://forums.edmunds.com/discussion/7526/general/x/midsize-sedans-2-0/p448\n",
            "https://forums.edmunds.com/discussion/7526/general/x/midsize-sedans-2-0/p449\n",
            "https://forums.edmunds.com/discussion/7526/general/x/midsize-sedans-2-0/p450\n",
            "https://forums.edmunds.com/discussion/7526/general/x/midsize-sedans-2-0/p451\n",
            "https://forums.edmunds.com/discussion/7526/general/x/midsize-sedans-2-0/p452\n",
            "https://forums.edmunds.com/discussion/7526/general/x/midsize-sedans-2-0/p453\n",
            "https://forums.edmunds.com/discussion/7526/general/x/midsize-sedans-2-0/p454\n",
            "https://forums.edmunds.com/discussion/7526/general/x/midsize-sedans-2-0/p455\n",
            "https://forums.edmunds.com/discussion/7526/general/x/midsize-sedans-2-0/p456\n",
            "https://forums.edmunds.com/discussion/7526/general/x/midsize-sedans-2-0/p457\n",
            "https://forums.edmunds.com/discussion/7526/general/x/midsize-sedans-2-0/p458\n",
            "https://forums.edmunds.com/discussion/7526/general/x/midsize-sedans-2-0/p459\n",
            "https://forums.edmunds.com/discussion/7526/general/x/midsize-sedans-2-0/p460\n",
            "https://forums.edmunds.com/discussion/7526/general/x/midsize-sedans-2-0/p461\n",
            "https://forums.edmunds.com/discussion/7526/general/x/midsize-sedans-2-0/p462\n",
            "https://forums.edmunds.com/discussion/7526/general/x/midsize-sedans-2-0/p463\n",
            "https://forums.edmunds.com/discussion/7526/general/x/midsize-sedans-2-0/p464\n",
            "https://forums.edmunds.com/discussion/7526/general/x/midsize-sedans-2-0/p465\n",
            "https://forums.edmunds.com/discussion/7526/general/x/midsize-sedans-2-0/p466\n",
            "https://forums.edmunds.com/discussion/7526/general/x/midsize-sedans-2-0/p467\n",
            "https://forums.edmunds.com/discussion/7526/general/x/midsize-sedans-2-0/p468\n",
            "https://forums.edmunds.com/discussion/7526/general/x/midsize-sedans-2-0/p469\n",
            "https://forums.edmunds.com/discussion/7526/general/x/midsize-sedans-2-0/p470\n",
            "https://forums.edmunds.com/discussion/7526/general/x/midsize-sedans-2-0/p471\n",
            "https://forums.edmunds.com/discussion/7526/general/x/midsize-sedans-2-0/p472\n",
            "https://forums.edmunds.com/discussion/7526/general/x/midsize-sedans-2-0/p473\n",
            "https://forums.edmunds.com/discussion/7526/general/x/midsize-sedans-2-0/p474\n",
            "https://forums.edmunds.com/discussion/7526/general/x/midsize-sedans-2-0/p475\n",
            "https://forums.edmunds.com/discussion/7526/general/x/midsize-sedans-2-0/p476\n",
            "https://forums.edmunds.com/discussion/7526/general/x/midsize-sedans-2-0/p477\n",
            "https://forums.edmunds.com/discussion/7526/general/x/midsize-sedans-2-0/p478\n",
            "https://forums.edmunds.com/discussion/7526/general/x/midsize-sedans-2-0/p479\n",
            "https://forums.edmunds.com/discussion/7526/general/x/midsize-sedans-2-0/p480\n",
            "https://forums.edmunds.com/discussion/7526/general/x/midsize-sedans-2-0/p481\n",
            "https://forums.edmunds.com/discussion/7526/general/x/midsize-sedans-2-0/p482\n",
            "https://forums.edmunds.com/discussion/7526/general/x/midsize-sedans-2-0/p483\n",
            "https://forums.edmunds.com/discussion/7526/general/x/midsize-sedans-2-0/p484\n",
            "https://forums.edmunds.com/discussion/7526/general/x/midsize-sedans-2-0/p485\n",
            "https://forums.edmunds.com/discussion/7526/general/x/midsize-sedans-2-0/p486\n",
            "https://forums.edmunds.com/discussion/7526/general/x/midsize-sedans-2-0/p487\n",
            "https://forums.edmunds.com/discussion/7526/general/x/midsize-sedans-2-0/p488\n",
            "https://forums.edmunds.com/discussion/7526/general/x/midsize-sedans-2-0/p489\n",
            "https://forums.edmunds.com/discussion/7526/general/x/midsize-sedans-2-0/p490\n",
            "https://forums.edmunds.com/discussion/7526/general/x/midsize-sedans-2-0/p491\n",
            "https://forums.edmunds.com/discussion/7526/general/x/midsize-sedans-2-0/p492\n",
            "https://forums.edmunds.com/discussion/7526/general/x/midsize-sedans-2-0/p493\n",
            "https://forums.edmunds.com/discussion/7526/general/x/midsize-sedans-2-0/p494\n",
            "https://forums.edmunds.com/discussion/7526/general/x/midsize-sedans-2-0/p495\n",
            "https://forums.edmunds.com/discussion/7526/general/x/midsize-sedans-2-0/p496\n",
            "https://forums.edmunds.com/discussion/7526/general/x/midsize-sedans-2-0/p497\n",
            "https://forums.edmunds.com/discussion/7526/general/x/midsize-sedans-2-0/p498\n",
            "https://forums.edmunds.com/discussion/7526/general/x/midsize-sedans-2-0/p499\n",
            "https://forums.edmunds.com/discussion/7526/general/x/midsize-sedans-2-0/p500\n",
            "https://forums.edmunds.com/discussion/7526/general/x/midsize-sedans-2-0/p501\n",
            "https://forums.edmunds.com/discussion/7526/general/x/midsize-sedans-2-0/p502\n",
            "https://forums.edmunds.com/discussion/7526/general/x/midsize-sedans-2-0/p503\n",
            "Drive already mounted at /drive; to attempt to forcibly remount, call drive.mount(\"/drive\", force_remount=True).\n"
          ],
          "name": "stdout"
        }
      ]
    },
    {
      "cell_type": "markdown",
      "metadata": {
        "id": "LiampgLdmLW0",
        "colab_type": "text"
      },
      "source": [
        "**3a. Replace frequently occurring car models with brands**\n",
        "\n",
        "**3b. Find the top 10 brands from frequncy counts**\n",
        "\n",
        "AND \n",
        "\n",
        "**Task A: MDS Map**"
      ]
    },
    {
      "cell_type": "code",
      "metadata": {
        "id": "b3HdhcoyAbaE",
        "colab_type": "code",
        "colab": {
          "resources": {
            "http://localhost:8080/nbextensions/google.colab/files.js": {
              "data": "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",
              "ok": true,
              "headers": [
                [
                  "content-type",
                  "application/javascript"
                ]
              ],
              "status": 200,
              "status_text": ""
            }
          },
          "base_uri": "https://localhost:8080/",
          "height": 384
        },
        "outputId": "29685f4b-f098-4e72-c101-621688b57926"
      },
      "source": [
        "import pandas as pd \n",
        "import nltk\n",
        "nltk.download('stopwords')\n",
        "nltk.download('punkt')\n",
        "import numpy as np\n",
        "from collections import Counter\n",
        "from nltk.tokenize import sent_tokenize\n",
        "from nltk.tokenize import word_tokenize\n",
        "from collections import defaultdict\n",
        "import re\n",
        "from nltk.corpus import stopwords\n",
        "from itertools import chain\n",
        "from sklearn.feature_extraction.text import TfidfVectorizer,TfidfTransformer,CountVectorizer\n",
        "from google.colab import files\n",
        "import io\n",
        "from google.colab import  drive\n",
        "\n",
        "uploaded = files.upload()\n",
        "file = pd.read_csv(io.BytesIO(uploaded['comments.csv']))\n",
        "file['comments'] = file['comments'].astype(str)\n",
        "file[\"comments\"] = file[\"comments\"].str.lower()\n",
        "\n",
        "#Convert the model names to brand names\n",
        "brandconverter = pd.read_csv(io.BytesIO(uploaded['car models and brands.csv']), header = None)\n",
        "brandconverter.columns = ['brand','model']\n",
        "s = brandconverter.set_index('model')['brand']\n",
        "s.index = r'\\b' + s.index + r'\\b' # Takes care of word boundary condition\n",
        "file['comments'] = file['comments'].replace(s, regex=True)\n",
        "\n",
        "stops =set(stopwords.words(\"english\"))\n",
        "def identify_tokens(row):\n",
        "    tokens = nltk.word_tokenize(row)\n",
        "    # taken only words (not punctuation)\n",
        "    token_words = [w for w in tokens if w.isalpha()]\n",
        "    return token_words \n",
        "\n",
        "file['words'] = file['comments'].apply(identify_tokens)\n",
        "\n",
        "def remove_stops(row):\n",
        "    row\n",
        "    non_stop = [w for w in row if not w in stops]\n",
        "    return (non_stop)\n",
        "\n",
        "#Remove stopwords\n",
        "file['words'] = file['words'].apply(remove_stops)\n",
        "\n",
        "def rejoin_words(row):\n",
        "    row\n",
        "    joined_words = ( \" \".join(row))\n",
        "    return joined_words\n",
        "\n",
        "file['processed'] = file['words'].apply(rejoin_words)\n",
        "cv=CountVectorizer()\n",
        "word_count_vector = cv.fit_transform(file['processed'])\n",
        "word_count = pd.DataFrame(word_count_vector.T.todense(), index=cv.get_feature_names()) \n",
        "word_freq_matrix = word_count.T\n",
        "\n",
        "#Count the frequencies of words\n",
        "counter = Counter(chain.from_iterable(map(str.split, file['processed'].tolist()))) \n",
        "view = word_count_vector.data\n",
        "series = pd.Series(counter).sort_values(ascending=False)\n",
        "term_freq = series.reset_index()\n",
        "term_freq.columns = ['words','freq']\n",
        "to_drop = list(brandconverter['brand'].unique())\n",
        "to_drop.remove('problem')\n",
        "to_drop.remove('seat')\n",
        "to_drop.remove('car')\n",
        "to_drop.remove('sedan')\n",
        "to_drop.append('aspirational')\n",
        "\n",
        "#Function to count each mention only once per post\n",
        "def encode_units(x):\n",
        "    if x <= 0:\n",
        "        return 0\n",
        "    if x >= 1:\n",
        "        return 1\n",
        "\n",
        "#Identify the top 10 brands by frequency\n",
        "word_sets = word_count.applymap(encode_units)\n",
        "word_sets['words'] = word_sets.index.values\n",
        "brand_sets = word_sets[word_sets['words'].isin(to_drop)]\n",
        "top_brands = brand_sets.sum(axis = 1).sort_values(ascending = False)[:10].index.values\n",
        "brand_sets = brand_sets.drop(columns = 'words')\n",
        "brand_sets = brand_sets.T\n",
        "top_brand_sets = brand_sets[top_brands]\n",
        "\n",
        "#Calculate lift ratios for associations between the brands\n",
        "from mlxtend.frequent_patterns import apriori\n",
        "from mlxtend.frequent_patterns import association_rules\n",
        "frequent_itemsets = apriori(top_brand_sets, min_support=0.005, use_colnames=True )\n",
        "\n",
        "rules = association_rules(frequent_itemsets, metric=\"lift\", min_threshold=1)\n",
        "lift_table = rules[['antecedents','consequents', 'lift']]\n",
        "lift_table['length_antecedents'] = lift_table['antecedents'].apply(lambda x: len(x))\n",
        "lift_table['length_consequents'] = lift_table['consequents'].apply(lambda x: len(x))\n",
        "\n",
        "lift_table = lift_table[lift_table['length_antecedents'] == 1]\n",
        "lift_table = lift_table[lift_table['length_consequents'] == 1]\n",
        "lift_table = lift_table.drop(columns =['length_consequents','length_antecedents'] )\n",
        "\n",
        "lift_table[\"antecedents\"] = lift_table[\"antecedents\"].apply(lambda x: ', '.join(list(x))).astype(\"unicode\")\n",
        "lift_table[\"consequents\"] = lift_table[\"consequents\"].apply(lambda x: list(x)[0]).astype(\"unicode\")\n",
        "\n",
        "lift_square_matrix = lift_table.pivot(index='antecedents', columns='consequents', values='lift')\n",
        "lift_square_matrix = lift_square_matrix.fillna(0)\n",
        "m,n = lift_square_matrix.shape\n",
        "lift_square_matrix[:] = np.where(np.arange(m)[:,None] >= np.arange(n),np.nan,lift_square_matrix)\n",
        "lift_square_matrix = lift_square_matrix.fillna('')\n",
        "lift_square_matrix.columns.name = None\n",
        "lift_square_matrix.index.name = None\n",
        "\n",
        "drive.mount('/drive')\n",
        "lift_square_matrix.to_csv('/drive/My Drive/lift_table.csv')"
      ],
      "execution_count": 1,
      "outputs": [
        {
          "output_type": "stream",
          "text": [
            "[nltk_data] Downloading package stopwords to /root/nltk_data...\n",
            "[nltk_data]   Package stopwords is already up-to-date!\n",
            "[nltk_data] Downloading package punkt to /root/nltk_data...\n",
            "[nltk_data]   Package punkt is already up-to-date!\n"
          ],
          "name": "stdout"
        },
        {
          "output_type": "display_data",
          "data": {
            "text/html": [
              "\n",
              "     <input type=\"file\" id=\"files-d8b95b1f-f01a-4e34-bbfc-d65bc2d507fd\" name=\"files[]\" multiple disabled\n",
              "        style=\"border:none\" />\n",
              "     <output id=\"result-d8b95b1f-f01a-4e34-bbfc-d65bc2d507fd\">\n",
              "      Upload widget is only available when the cell has been executed in the\n",
              "      current browser session. Please rerun this cell to enable.\n",
              "      </output>\n",
              "      <script src=\"/nbextensions/google.colab/files.js\"></script> "
            ],
            "text/plain": [
              "<IPython.core.display.HTML object>"
            ]
          },
          "metadata": {
            "tags": []
          }
        },
        {
          "output_type": "stream",
          "text": [
            "Saving aspirational words.csv to aspirational words.csv\n",
            "Saving car models and brands.csv to car models and brands (14).csv\n",
            "Saving comments.csv to comments (2).csv\n",
            "Drive already mounted at /drive; to attempt to forcibly remount, call drive.mount(\"/drive\", force_remount=True).\n"
          ],
          "name": "stdout"
        },
        {
          "output_type": "stream",
          "text": [
            "/usr/local/lib/python3.6/dist-packages/ipykernel_launcher.py:94: SettingWithCopyWarning: \n",
            "A value is trying to be set on a copy of a slice from a DataFrame.\n",
            "Try using .loc[row_indexer,col_indexer] = value instead\n",
            "\n",
            "See the caveats in the documentation: https://pandas.pydata.org/pandas-docs/stable/user_guide/indexing.html#returning-a-view-versus-a-copy\n",
            "/usr/local/lib/python3.6/dist-packages/ipykernel_launcher.py:95: SettingWithCopyWarning: \n",
            "A value is trying to be set on a copy of a slice from a DataFrame.\n",
            "Try using .loc[row_indexer,col_indexer] = value instead\n",
            "\n",
            "See the caveats in the documentation: https://pandas.pydata.org/pandas-docs/stable/user_guide/indexing.html#returning-a-view-versus-a-copy\n"
          ],
          "name": "stderr"
        }
      ]
    },
    {
      "cell_type": "code",
      "metadata": {
        "id": "VDGBjUd1WvYm",
        "colab_type": "code",
        "colab": {
          "base_uri": "https://localhost:8080/",
          "height": 697
        },
        "outputId": "1605af2e-a4df-4935-c2e3-e8134c1e059a"
      },
      "source": [
        "print(\"Top 10 Brands Frequency Table\")\n",
        "brand_sets = word_sets[word_sets['words'].isin(to_drop)]\n",
        "print(brand_sets.sum(axis = 1).sort_values(ascending = False)[:10])\n",
        "\n",
        "pd.set_option('display.expand_frame_repr', False)\n",
        "print(\"\\n\\nLift Calculations Table\")\n",
        "print(pd.DataFrame(lift_square_matrix))\n",
        "\n",
        "#Build MDS map from lift values\n",
        "from sklearn import manifold\n",
        "import matplotlib.pyplot as plt\n",
        "from sklearn.metrics import euclidean_distances\n",
        "from sklearn.metrics.pairwise import linear_kernel as cosine_distances\n",
        "from sklearn.metrics.pairwise import manhattan_distances as manhattan_distances \n",
        "binary_variables = list(top_brand_sets.columns)\n",
        "brand_matrix = top_brand_sets.to_numpy().transpose()\n",
        "distance_matrix = manhattan_distances(brand_matrix)\n",
        "mds_method = manifold.MDS(n_components=2, random_state = 9999, dissimilarity = 'precomputed')\n",
        "mds_fit = mds_method.fit(distance_matrix)\n",
        "mds_coordinates = mds_method.fit_transform(distance_matrix) \n",
        "plt.figure()\n",
        "plt.scatter(mds_coordinates[:,0], mds_coordinates[:,1], facecolors = 'none', edgecolor = 'none')\n",
        "plt.xticks([])\n",
        "plt.yticks([])\n",
        "plt.title(\"MDS Map\")\n",
        "labels = binary_variables \n",
        "for labels, x, y in zip(labels, mds_coordinates[:,0],mds_coordinates[:,1]):\n",
        "    plt.annotate(labels, (x,y), xycoords = 'data')\n",
        "plt.show()"
      ],
      "execution_count": 2,
      "outputs": [
        {
          "output_type": "stream",
          "text": [
            "Top 10 Brands Frequency Table\n",
            "honda        1483\n",
            "ford          975\n",
            "toyota        770\n",
            "hyundai       721\n",
            "mazda         671\n",
            "nissan        507\n",
            "kia           506\n",
            "chrysler      439\n",
            "chevrolet     430\n",
            "subaru        405\n",
            "dtype: int64\n",
            "\n",
            "\n",
            "Lift Calculations Table\n",
            "          chevrolet chrysler     ford    honda  hyundai      kia    mazda   nissan   subaru   toyota\n",
            "chevrolet            3.02299  2.08384  1.63928  2.58991  3.04049  2.34534  3.08082  2.69681  2.71489\n",
            "chrysler                      1.71076   1.8694  2.39322   3.2055  2.00581  2.63195  2.58472  2.24093\n",
            "ford                                   1.33416  1.63071  1.88345  1.46662  1.98189  1.76486  1.92381\n",
            "honda                                           1.68138   1.7632  1.79652  2.07539  1.69843  2.04758\n",
            "hyundai                                                  3.79277  2.08768  2.73535  2.57684  2.61064\n",
            "kia                                                               2.64751   2.9921  2.58747  2.47562\n",
            "mazda                                                                      2.46416   2.8246  2.23828\n",
            "nissan                                                                              2.55777  3.19514\n",
            "subaru                                                                                       2.83389\n",
            "toyota                                                                                              \n"
          ],
          "name": "stdout"
        },
        {
          "output_type": "display_data",
          "data": {
            "image/png": "[encoded data removed]",
            "text/plain": [
              "<Figure size 432x288 with 1 Axes>"
            ]
          },
          "metadata": {
            "tags": []
          }
        }
      ]
    },
    {
      "cell_type": "markdown",
      "metadata": {
        "id": "wGW6VGhPm4Ci",
        "colab_type": "text"
      },
      "source": [
        "**Task B: What insights can you offer brand managers from your analysis in Task A (choose two brands that you can offer the most interesting/useful insights for)?**"
      ]
    },
    {
      "cell_type": "markdown",
      "metadata": {
        "id": "swI-Q8yZYvor",
        "colab_type": "text"
      },
      "source": [
        "1. Ford doesn't show strong similarity with any of the other brands except a slight association with Chevrolet.\n",
        "\n",
        "2. Honda doesn't show strong similarity with any of the other brands except a slight association with Toyota.\n",
        "\n",
        "3. Hyundai and Kia are the two most similar brands, and Kia is the most frequently associated brand with other brands.\n",
        "\n",
        "**expand on this section**\n"
      ]
    },
    {
      "cell_type": "markdown",
      "metadata": {
        "id": "uJujPY3Zm7_M",
        "colab_type": "text"
      },
      "source": [
        "**Task C: What are 5 most frequently mentioned attributes of cars in the discussions? Which attributes are most strongly associated with which of these 5 brands? You DON’T have to do a sentiment analysis for this assignment.**\n",
        "\n",
        "\n",
        "\n"
      ]
    },
    {
      "cell_type": "code",
      "metadata": {
        "id": "qvWOJCjpaLIc",
        "colab_type": "code",
        "colab": {}
      },
      "source": [
        "##insert Task C code here"
      ],
      "execution_count": null,
      "outputs": []
    },
    {
      "cell_type": "markdown",
      "metadata": {
        "id": "_GtBX4QAaDac",
        "colab_type": "text"
      },
      "source": [
        "**Task D: What advice will you give to a (i) product manager, and (ii) marketing/advertising manager of these brands based on your analysis in Task C? For this assignment, you can assume the sentiment (e.g., that it is positive).**"
      ]
    },
    {
      "cell_type": "markdown",
      "metadata": {
        "id": "X1kzLwLoatj-",
        "colab_type": "text"
      },
      "source": [
        "**insert Task D analysis here**"
      ]
    },
    {
      "cell_type": "markdown",
      "metadata": {
        "id": "-Vs0ieuMRxfj",
        "colab_type": "text"
      },
      "source": [
        "**Task E: Which is the most aspirational brand in your data in terms of people actually wanting to buy or own? Describe your analysis. What are the business implications for this brand?**"
      ]
    },
    {
      "cell_type": "code",
      "metadata": {
        "id": "h4i_k-OBRuiY",
        "colab_type": "code",
        "colab": {
          "base_uri": "https://localhost:8080/",
          "height": 496
        },
        "outputId": "08ee5687-79df-4445-e330-211011632968"
      },
      "source": [
        "import pandas as pd \n",
        "import nltk\n",
        "import numpy as np\n",
        "from collections import Counter\n",
        "from nltk.tokenize import sent_tokenize\n",
        "from nltk.tokenize import word_tokenize\n",
        "from collections import defaultdict\n",
        "import re\n",
        "from nltk.corpus import stopwords\n",
        "from itertools import chain\n",
        "from sklearn.feature_extraction.text import TfidfVectorizer,TfidfTransformer,CountVectorizer\n",
        "from google.colab import files\n",
        "import io\n",
        "\n",
        "file = pd.read_csv('comments.csv')\n",
        "file['comments'] = file['comments'].astype(str)\n",
        "file[\"comments\"] = file[\"comments\"].str.lower()\n",
        "\n",
        "brandconverter = pd.read_csv(\"car models and brands.csv\",header = None)\n",
        "brandconverter.columns = ['brand','model']\n",
        "s = brandconverter.set_index('model')['brand']\n",
        "s.index = r'\\b' + s.index + r'\\b' # Takes care of word boundary condition\n",
        "file['comments'] = file['comments'].replace(s, regex=True)\n",
        "\n",
        "aspirationalwords = pd.read_csv(io.BytesIO(uploaded['aspirational words.csv']), header=None)\n",
        "aspirationalwords.columns = ['aspirational', 'words']\n",
        "t = aspirationalwords.set_index('words')['aspirational']\n",
        "t.index = r'\\b' + t.index + r'\\b' # Takes care of word boundary condition\n",
        "file['comments'] = file['comments'].replace(t, regex=True)\n",
        "\n",
        "nltk.download('stopwords')\n",
        "nltk.download('punkt')\n",
        "stops =set(stopwords.words(\"english\"))\n",
        "def identify_tokens(row):\n",
        "    tokens = nltk.word_tokenize(row)\n",
        "    # taken only words (not punctuation)\n",
        "    token_words = [w for w in tokens if w.isalpha()]\n",
        "    return token_words\n",
        "\n",
        "file['words'] = file['comments'].apply(identify_tokens)\n",
        "\n",
        "def remove_stops(row):\n",
        "    row\n",
        "    non_stop = [w for w in row if not w in stops]\n",
        "    return (non_stop)\n",
        "\n",
        "file['words'] = file['words'].apply(remove_stops)\n",
        "\n",
        "def rejoin_words(row):\n",
        "    row\n",
        "    joined_words = ( \" \".join(row))\n",
        "    return joined_words\n",
        "\n",
        "file['processed'] = file['words'].apply(rejoin_words)\n",
        "cv=CountVectorizer()\n",
        "word_count_vector = cv.fit_transform(file['processed'])\n",
        "word_count = pd.DataFrame(word_count_vector.T.todense(), index=cv.get_feature_names()) \n",
        "word_freq_matrix = word_count.T\n",
        "\n",
        "counter = Counter(chain.from_iterable(map(str.split, file['processed'].tolist()))) \n",
        "view = word_count_vector.data\n",
        "series = pd.Series(counter).sort_values(ascending=False)\n",
        "term_freq = series.reset_index()\n",
        "term_freq.columns = ['words','freq']\n",
        "to_drop = list(brandconverter['brand'].unique())\n",
        "to_drop.remove('problem')\n",
        "to_drop.remove('seat')\n",
        "to_drop.remove('car')\n",
        "to_drop.remove('sedan')\n",
        "to_drop.append('aspirational')\n",
        "\n",
        "def encode_units(x):\n",
        "    if x <= 0:\n",
        "        return 0\n",
        "    if x >= 1:\n",
        "        return 1\n",
        "word_sets = word_count.applymap(encode_units)\n",
        "word_sets['words'] = word_sets.index.values\n",
        "brand_sets = word_sets[word_sets['words'].isin(to_drop)]\n",
        "\n",
        "brand_sets = brand_sets.drop(columns = 'words')\n",
        "brand_sets = brand_sets.T\n",
        "\n",
        "from mlxtend.frequent_patterns import apriori\n",
        "from mlxtend.frequent_patterns import association_rules\n",
        "frequent_itemsets = apriori(brand_sets, min_support=0.001, use_colnames=True )\n",
        "\n",
        "rules = association_rules(frequent_itemsets, metric=\"lift\", min_threshold=1)\n",
        "lift_table = rules[['antecedents','consequents', 'lift']]\n",
        "lift_table['length_antecedents'] = lift_table['antecedents'].apply(lambda x: len(x))\n",
        "lift_table['length_consequents'] = lift_table['consequents'].apply(lambda x: len(x))\n",
        "\n",
        "lift_table = lift_table[lift_table['length_antecedents'] == 1]\n",
        "lift_table = lift_table[lift_table['length_consequents'] == 1]\n",
        "lift_table = lift_table.drop(columns =['length_consequents','length_antecedents'] )\n",
        "\n",
        "lift_table[\"antecedents\"] = lift_table[\"antecedents\"].apply(lambda x: ', '.join(list(x))).astype(\"unicode\")\n",
        "lift_table[\"consequents\"] = lift_table[\"consequents\"].apply(lambda x: list(x)[0]).astype(\"unicode\")\n",
        "\n",
        "lift_square_matrix = lift_table.pivot(index='antecedents', columns='consequents', values='lift')\n",
        "lift_square_matrix = lift_square_matrix.fillna(0)\n",
        "m,n = lift_square_matrix.shape\n",
        "lift_square_matrix[:] = np.where(np.arange(m)[:,None] >= np.arange(n),np.nan,lift_square_matrix)\n",
        "lift_square_matrix = lift_square_matrix.fillna('')\n",
        "lift_square_matrix.columns.name = None\n",
        "lift_square_matrix.index.name = None\n",
        "\n",
        "from sklearn import manifold\n",
        "import matplotlib.pyplot as plt\n",
        "from sklearn.metrics import euclidean_distances\n",
        "from sklearn.metrics.pairwise import linear_kernel as cosine_distances\n",
        "from sklearn.metrics.pairwise import manhattan_distances as manhattan_distances \n",
        "binary_variables = list(brand_sets.columns)\n",
        "brand_matrix = brand_sets.to_numpy().transpose()\n",
        "distance_matrix = manhattan_distances(brand_matrix)\n",
        "mds_method = manifold.MDS(n_components=2, random_state = 9999, dissimilarity = 'precomputed')\n",
        "mds_fit = mds_method.fit(distance_matrix)\n",
        "mds_coordinates = mds_method.fit_transform(distance_matrix) \n",
        "plt.figure()\n",
        "plt.scatter(mds_coordinates[:,0], mds_coordinates[:,1], facecolors = 'none', edgecolor = 'none')\n",
        "labels = binary_variables \n",
        "for labels, x, y in zip(labels, mds_coordinates[:,0],mds_coordinates[:,1]):\n",
        "    plt.annotate(labels, (x,y), xycoords = 'data')\n",
        "\n",
        "plt.show()\n"
      ],
      "execution_count": 3,
      "outputs": [
        {
          "output_type": "stream",
          "text": [
            "[nltk_data] Downloading package stopwords to /root/nltk_data...\n",
            "[nltk_data]   Package stopwords is already up-to-date!\n",
            "[nltk_data] Downloading package punkt to /root/nltk_data...\n",
            "[nltk_data]   Package punkt is already up-to-date!\n"
          ],
          "name": "stdout"
        },
        {
          "output_type": "stream",
          "text": [
            "/usr/local/lib/python3.6/dist-packages/ipykernel_launcher.py:90: SettingWithCopyWarning: \n",
            "A value is trying to be set on a copy of a slice from a DataFrame.\n",
            "Try using .loc[row_indexer,col_indexer] = value instead\n",
            "\n",
            "See the caveats in the documentation: https://pandas.pydata.org/pandas-docs/stable/user_guide/indexing.html#returning-a-view-versus-a-copy\n",
            "/usr/local/lib/python3.6/dist-packages/ipykernel_launcher.py:91: SettingWithCopyWarning: \n",
            "A value is trying to be set on a copy of a slice from a DataFrame.\n",
            "Try using .loc[row_indexer,col_indexer] = value instead\n",
            "\n",
            "See the caveats in the documentation: https://pandas.pydata.org/pandas-docs/stable/user_guide/indexing.html#returning-a-view-versus-a-copy\n"
          ],
          "name": "stderr"
        },
        {
          "output_type": "display_data",
          "data": {
            "image/png": "[encoded data removed]",
            "text/plain": [
              "<Figure size 432x288 with 1 Axes>"
            ]
          },
          "metadata": {
            "tags": [],
            "needs_background": "light"
          }
        }
      ]
    },
    {
      "cell_type": "markdown",
      "metadata": {
        "id": "vcQX5Qyod_0S",
        "colab_type": "text"
      },
      "source": [
        "**First, how we measured aspirational.**\n",
        "\n",
        "Add details here and print the aspirational table"
      ]
    },
    {
      "cell_type": "code",
      "metadata": {
        "id": "eQjZkUzjdY7R",
        "colab_type": "code",
        "colab": {
          "base_uri": "https://localhost:8080/",
          "height": 115
        },
        "outputId": "cbd3328f-313f-49ea-8f55-615704fb9b64"
      },
      "source": [
        "pd.set_option('display.expand_frame_repr', False)\n",
        "print(\"\\n\\nLift Calculations Table\")\n",
        "print(pd.DataFrame(lift_square_matrix)[:2])"
      ],
      "execution_count": 5,
      "outputs": [
        {
          "output_type": "stream",
          "text": [
            "\n",
            "\n",
            "Lift Calculations Table\n",
            "             acura aspirational     audi      bmw    buick cadillac chevrolet chrysler    dodge     ford    honda hyundai infiniti      kia lincoln    mazda mitsubishi   nissan   subaru   toyota volkswagen volvo\n",
            "acura                    1.4055  3.23148  3.72162  1.86128  7.47456   1.15211  1.21638  1.73811        0  2.01417       0  6.61211   1.3487  4.6716  1.05528          0  1.02128  1.53874  1.24412    1.13102     0\n",
            "aspirational                     2.15664  2.18512  1.71101        0   1.66139  1.57438  1.59778  1.24821  1.33632  1.1332  2.67443  1.61837       0   1.6168          0  1.13597  1.56669  1.34953    1.15456     0\n"
          ],
          "name": "stdout"
        }
      ]
    },
    {
      "cell_type": "markdown",
      "metadata": {
        "id": "h_y7zGQHdu4f",
        "colab_type": "text"
      },
      "source": [
        "**Most aspirational brand is Inifiniti**"
      ]
    },
    {
      "cell_type": "markdown",
      "metadata": {
        "id": "Nx3zb3gzd1Bk",
        "colab_type": "text"
      },
      "source": [
        "**Advice/insights based on analysis for brand, product, and advertising managers.**"
      ]
    }
  ]
}